{
 "cells": [
  {
   "cell_type": "code",
   "execution_count": 3,
   "id": "f26dc636",
   "metadata": {},
   "outputs": [],
   "source": [
    "import pandas as pd\n",
    "import numpy as np\n",
    "import scipy.stats as stats\n",
    "import matplotlib.pyplot as plt\n",
    "from scipy.optimize import minimize\n",
    "from scipy.stats import beta\n",
    "from Vulnerabilities_sorter import sorter\n",
    "from reportlab.platypus import SimpleDocTemplate, Image, Paragraph, Spacer\n",
    "from reportlab.lib.styles import getSampleStyleSheet\n",
    "from reportlab.lib.pagesizes import A4\n",
    "import pandas as pd\n",
    "import os"
   ]
  },
  {
   "cell_type": "code",
   "execution_count": 4,
   "id": "82501c3b",
   "metadata": {},
   "outputs": [
    {
     "name": "stdout",
     "output_type": "stream",
     "text": [
      "    AVA1  AVA2  AVA3  AVA4   CPB CPB.1 CPB.2  EBO    EFF EFF.1  ... INO.2  \\\n",
      "0      0     0     0     0     0     0     0    0      0     0  ...     0   \n",
      "1  0.001  0.03  0.03  0.03  0.01  0.01  0.01    0  0.001  0.01  ...   0.1   \n",
      "2    0.2   0.4   0.5     1   0.1   0.3   0.8    0    0.3   0.3  ...   0.3   \n",
      "3    0.6   0.8     1     1   0.3   0.6   0.9    1    0.8   0.8  ...   0.6   \n",
      "4      1     1     1     1     1     1     1    1      1     1  ...     1   \n",
      "\n",
      "  INOD INOD.1 INOD.2    LAC LAC.1  LTO LTO.1 LTO.2 LTO.3  \n",
      "0    0      0      0      0     0    0     0     0     0  \n",
      "1  0.1    0.1    0.1  0.001   0.1  0.1   0.1   0.1   0.1  \n",
      "2  0.3    0.3    0.8    0.2   0.3  0.3   0.3   0.5   0.8  \n",
      "3  0.5    0.8      1    0.2   0.4  0.6     1     1     1  \n",
      "4    1      1      1      1     1    1     1     1     1  \n",
      "\n",
      "[5 rows x 27 columns]\n"
     ]
    }
   ],
   "source": [
    "data = pd.read_csv('../../Database/Vulnerabilities/DataVulnerabilities.csv', sep=\";\")\n",
    "data = data.replace(',', '.', regex=True)\n",
    "del data[data.columns[0]]\n",
    "print(data)"
   ]
  },
  {
   "cell_type": "code",
   "execution_count": 6,
   "id": "805006c7",
   "metadata": {},
   "outputs": [
    {
     "name": "stdout",
     "output_type": "stream",
     "text": [
      "class_fit   AA   AB   AC   AD   AE    AF    AG    AH   AI   AJ  ...    FF  \\\n",
      "V_0          0    0    0    0    0     0     0     0    0    0  ...     0   \n",
      "V_L        0.1  0.1  0.1  0.1  0.1   0.1  0.05  0.05  0.1  0.1  ...     0   \n",
      "V_M        0.3  0.3  0.5  0.5  0.8   0.3  0.25   0.3  0.6  0.3  ...  0.05   \n",
      "V_H        0.6    1    1  0.9    1  0.75   0.5   0.6    1  0.7  ...   0.3   \n",
      "V_max        1    1    1    1    1     1     1     1    1    1  ...     1   \n",
      "\n",
      "class_fit    FG    FH    FI     FJ     FK     FL     FM     FN     FO  \n",
      "V_0           0     0     0      0      0      0      0      0      0  \n",
      "V_L        0.05     0  0.05  0.005  0.005  0.005  0.005  0.005  0.001  \n",
      "V_M         0.1  0.03   0.1    0.3    0.2    0.4    0.2    0.1    0.2  \n",
      "V_H         0.3   0.1     1      1    0.3      1    0.6    0.4    0.6  \n",
      "V_max         1     1     1      1      1      1      1      1      1  \n",
      "\n",
      "[5 rows x 145 columns]\n"
     ]
    }
   ],
   "source": [
    "data = sorter('../../Database/Vulnerabilities/DataVulnerabilities2.csv')\n",
    "print(data)"
   ]
  },
  {
   "cell_type": "code",
   "execution_count": 23,
   "id": "55b8664d",
   "metadata": {},
   "outputs": [],
   "source": [
    "def fit_beta_cdf(xs, Fs):\n",
    "    xs = np.asarray(xs, dtype=float)\n",
    "    Fs = np.asarray(Fs, dtype=float)\n",
    "\n",
    "    xmin, xmax = np.min(xs), np.max(xs)\n",
    "    x_scaled = (xs - xmin) / (xmax - xmin)\n",
    "\n",
    "    def loss(params):\n",
    "        a, b = params\n",
    "        if a <= 0 or b <= 0:\n",
    "            return 1.e6\n",
    "        modelF = beta.cdf(x_scaled, a, b)\n",
    "        return np.mean((modelF - Fs)**2)\n",
    "    #res = minimize(loss, x0=[2.0, 2.0], bounds=[(1e-3, None), (1e-3, None)])\n",
    "    res = minimize(loss, x0=[1.0,1.0], bounds=[(1e-3, None), (1e-3, None)])\n",
    "    a, b = res.x\n",
    "\n",
    "    return a, b, xmin, (xmax - xmin)"
   ]
  },
  {
   "cell_type": "code",
   "execution_count": 6,
   "id": "ab2bc795",
   "metadata": {},
   "outputs": [
    {
     "name": "stdout",
     "output_type": "stream",
     "text": [
      "Index(['AA', 'AB', 'AC', 'AD', 'AE', 'AF', 'AG', 'AH', 'AI', 'AJ',\n",
      "       ...\n",
      "       'FF', 'FG', 'FH', 'FI', 'FJ', 'FK', 'FL', 'FM', 'FN', 'FO'],\n",
      "      dtype='object', name='class_fit', length=145)\n"
     ]
    }
   ],
   "source": [
    "params_beta = np.zeros(shape=[data.shape[1], 4])\n",
    "classes = np.arange(0,5)\n",
    "titles = []\n",
    "print(data.columns)\n",
    "for idx, c in enumerate(data.columns):\n",
    "    titles.append(c)\n",
    "    cumulative = np.array(pd.to_numeric(data[c]))\n",
    "    params_beta[idx, 0], params_beta[idx, 1], params_beta[idx, 2], params_beta[idx,3] = fit_beta_cdf(classes,cumulative)"
   ]
  },
  {
   "cell_type": "code",
   "execution_count": 7,
   "id": "7c727185",
   "metadata": {},
   "outputs": [],
   "source": [
    "plt.rcParams.update({'font.size': 18})\n",
    "for idx, c in enumerate(data.columns):\n",
    "    plt.figure()\n",
    "    plt.title(c)\n",
    "    plt.plot(np.array(pd.to_numeric(data[c])), 'x')\n",
    "    plt.plot(np.linspace(0,4), stats.beta.cdf(np.linspace(0,4), params_beta[idx,0], params_beta[idx,1], loc=params_beta[idx, 2], scale=params_beta[idx, 3]), label=f'a={np.round(params_beta[idx,0],1)}, b={np.round(params_beta[idx,1],1)}')\n",
    "    plt.ylabel('Cumulative')\n",
    "    plt.xlabel('Classes')\n",
    "    plt.grid('on')\n",
    "    plt.legend()\n",
    "    plt.savefig(\"../Plots/Vulnerabilities/\"+c+\".png\", bbox_inches='tight')\n",
    "    plt.close()\n",
    "    "
   ]
  },
  {
   "cell_type": "code",
   "execution_count": 8,
   "id": "ad93d34c",
   "metadata": {},
   "outputs": [],
   "source": [
    "arr_dict = {col: params_beta[idx, :] for idx, col in enumerate(data.columns)}\n",
    "df = pd.DataFrame(arr_dict)\n",
    "df.insert(0, 'parameters', [\"alpha\", \"beta\", \"xmin\", \"xmax\"])\n",
    "df.to_csv(\"beta_fits.csv\", index=False, sep=\";\") "
   ]
  },
  {
   "cell_type": "code",
   "execution_count": 9,
   "id": "32f77d18",
   "metadata": {},
   "outputs": [],
   "source": [
    "legends = pd.read_csv('../Database/Vulnerabilities/VulneLegend.csv', sep=\";\")"
   ]
  },
  {
   "cell_type": "code",
   "execution_count": 11,
   "id": "a4accf99",
   "metadata": {},
   "outputs": [],
   "source": [
    "def make_caption(filename):\n",
    "    indices = legends.index[legends.iloc[:, 6] == filename].tolist()\n",
    "    caption = \"\"\n",
    "    for indice in indices:\n",
    "        caption += legends[legends.columns[7]][indice]+', '\n",
    "    caption = caption[:-2]\n",
    "    caption += '.'\n",
    "    return caption"
   ]
  },
  {
   "cell_type": "code",
   "execution_count": 12,
   "id": "85d29569",
   "metadata": {},
   "outputs": [],
   "source": [
    "doc = SimpleDocTemplate(\"Beta_fits.pdf\", pagesize=A4)\n",
    "story = []\n",
    "styles = getSampleStyleSheet()\n",
    "\n",
    "for idx, c in enumerate(data.columns):\n",
    "    path = \"../Plots/Vulnerabilities/\"+c+\".png\"\n",
    "    if os.path.exists(path):\n",
    "\n",
    "        img = Image(path, width=250, height=200)  \n",
    "        story.append(img)\n",
    "\n",
    "        para = Paragraph(make_caption(c), styles[\"Normal\"])\n",
    "        story.append(para)\n",
    "\n",
    "        story.append(Spacer(1, 20))\n",
    "\n",
    "doc.build(story)"
   ]
  },
  {
   "cell_type": "code",
   "execution_count": 31,
   "id": "4bf94f8c",
   "metadata": {},
   "outputs": [],
   "source": [
    "params_beta = np.zeros(shape=[1, 4])\n",
    "classes = np.array([0,2,10,20,50])\n",
    "cumulative = np.array([0,0.01,0.3,0.8,1])\n",
    "idx=0\n",
    "params_beta[idx, 0], params_beta[idx, 1], params_beta[idx, 2], params_beta[idx,3] = fit_beta_cdf(classes,cumulative)"
   ]
  },
  {
   "cell_type": "code",
   "execution_count": 33,
   "id": "a39d1946",
   "metadata": {},
   "outputs": [
    {
     "data": {
      "text/plain": [
       "<matplotlib.legend.Legend at 0x16ca72e90>"
      ]
     },
     "execution_count": 33,
     "metadata": {},
     "output_type": "execute_result"
    },
    {
     "data": {
      "image/png": "[encoded data removed]",
      "text/plain": [
       "<Figure size 640x480 with 1 Axes>"
      ]
     },
     "metadata": {},
     "output_type": "display_data"
    }
   ],
   "source": [
    "plt.figure()\n",
    "plt.title('Test')\n",
    "plt.plot(classes, cumulative, 'x')\n",
    "plt.plot(np.linspace(0,50,1000), stats.beta.cdf(np.linspace(0,50,1000), params_beta[idx,0], params_beta[idx,1], loc=params_beta[idx, 2], scale=params_beta[idx, 3]), label=f'a={np.round(params_beta[idx,0],1)}, b={np.round(params_beta[idx,1],1)}')\n",
    "plt.ylabel('Cumulative')\n",
    "plt.xlabel('h [m]')\n",
    "plt.grid('on')\n",
    "plt.legend()"
   ]
  }
 ],
 "metadata": {
  "kernelspec": {
   "display_name": "idfenv",
   "language": "python",
   "name": "python3"
  },
  "language_info": {
   "codemirror_mode": {
    "name": "ipython",
    "version": 3
   },
   "file_extension": ".py",
   "mimetype": "text/x-python",
   "name": "python",
   "nbconvert_exporter": "python",
   "pygments_lexer": "ipython3",
   "version": "3.13.5"
  }
 },
 "nbformat": 4,
 "nbformat_minor": 5
}
